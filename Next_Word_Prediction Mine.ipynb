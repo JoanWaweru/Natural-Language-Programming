{
  "cells": [
    {
      "cell_type": "code",
      "execution_count": null,
      "metadata": {
        "id": "HTJE-2N3eiNa"
      },
      "outputs": [],
      "source": [
        "#!python -m spacy download en_core_web_md"
      ]
    },
    {
      "cell_type": "code",
      "execution_count": null,
      "metadata": {
        "id": "jLbzhwDjeyMl"
      },
      "outputs": [],
      "source": [
        "#import spacy"
      ]
    },
    {
      "cell_type": "code",
      "execution_count": null,
      "metadata": {
        "id": "YN02YGa2ep96"
      },
      "outputs": [],
      "source": [
        "#embedding_file=spacy.load('en_core_web_md')"
      ]
    },
    {
      "cell_type": "code",
      "execution_count": null,
      "metadata": {
        "id": "P27Q6hWqe6Pg"
      },
      "outputs": [],
      "source": [
        "#embedding_file('want').vector.shape"
      ]
    },
    {
      "cell_type": "code",
      "execution_count": null,
      "metadata": {
        "id": "zCEN0H6dy9eJ"
      },
      "outputs": [],
      "source": [
        "from sklearn.feature_extraction.text import TfidfVectorizer\n",
        "from nltk.tokenize import word_tokenize,sent_tokenize\n",
        "from sklearn.decomposition import PCA\n",
        "from sklearn.metrics import accuracy_score\n",
        "from sklearn.model_selection import train_test_split"
      ]
    },
    {
      "cell_type": "code",
      "execution_count": null,
      "metadata": {
        "colab": {
          "base_uri": "https://localhost:8080/"
        },
        "id": "aJJgTFu1JwuS",
        "outputId": "137346fa-4f0b-4d15-d067-c682527ca4d0"
      },
      "outputs": [
        {
          "name": "stdout",
          "output_type": "stream",
          "text": [
            "Requirement already satisfied: nlp in /usr/local/lib/python3.7/dist-packages (0.4.0)\n",
            "Requirement already satisfied: numpy in /usr/local/lib/python3.7/dist-packages (from nlp) (1.19.5)\n",
            "Requirement already satisfied: dill in /usr/local/lib/python3.7/dist-packages (from nlp) (0.3.4)\n",
            "Requirement already satisfied: pandas in /usr/local/lib/python3.7/dist-packages (from nlp) (1.1.5)\n",
            "Requirement already satisfied: tqdm>=4.27 in /usr/local/lib/python3.7/dist-packages (from nlp) (4.41.1)\n",
            "Requirement already satisfied: filelock in /usr/local/lib/python3.7/dist-packages (from nlp) (3.0.12)\n",
            "Requirement already satisfied: pyarrow>=0.16.0 in /usr/local/lib/python3.7/dist-packages (from nlp) (3.0.0)\n",
            "Requirement already satisfied: xxhash in /usr/local/lib/python3.7/dist-packages (from nlp) (2.0.2)\n",
            "Requirement already satisfied: requests>=2.19.0 in /usr/local/lib/python3.7/dist-packages (from nlp) (2.23.0)\n",
            "Requirement already satisfied: chardet<4,>=3.0.2 in /usr/local/lib/python3.7/dist-packages (from requests>=2.19.0->nlp) (3.0.4)\n",
            "Requirement already satisfied: certifi>=2017.4.17 in /usr/local/lib/python3.7/dist-packages (from requests>=2.19.0->nlp) (2021.5.30)\n",
            "Requirement already satisfied: urllib3!=1.25.0,!=1.25.1,<1.26,>=1.21.1 in /usr/local/lib/python3.7/dist-packages (from requests>=2.19.0->nlp) (1.24.3)\n",
            "Requirement already satisfied: idna<3,>=2.5 in /usr/local/lib/python3.7/dist-packages (from requests>=2.19.0->nlp) (2.10)\n",
            "Requirement already satisfied: pytz>=2017.2 in /usr/local/lib/python3.7/dist-packages (from pandas->nlp) (2018.9)\n",
            "Requirement already satisfied: python-dateutil>=2.7.3 in /usr/local/lib/python3.7/dist-packages (from pandas->nlp) (2.8.1)\n",
            "Requirement already satisfied: six>=1.5 in /usr/local/lib/python3.7/dist-packages (from python-dateutil>=2.7.3->pandas->nlp) (1.15.0)\n"
          ]
        }
      ],
      "source": [
        "#!pip install nlp"
      ]
    },
    {
      "cell_type": "code",
      "execution_count": null,
      "metadata": {
        "id": "YTSh_eoizBWc"
      },
      "outputs": [],
      "source": [
        "#from nlp import load_dataset\n",
        "from nltk.tokenize import word_tokenize,sent_tokenize"
      ]
    },
    {
      "cell_type": "code",
      "source": [
        "word_tokenize(\"Today is a great day!\")"
      ],
      "metadata": {
        "colab": {
          "base_uri": "https://localhost:8080/"
        },
        "id": "dTUc4bxE10XM",
        "outputId": "2bdd7025-3fb5-456d-ae71-e67d2b1d3777"
      },
      "execution_count": null,
      "outputs": [
        {
          "output_type": "execute_result",
          "data": {
            "text/plain": [
              "['Today', 'is', 'a', 'great', 'day', '!']"
            ]
          },
          "metadata": {},
          "execution_count": 11
        }
      ]
    },
    {
      "cell_type": "code",
      "execution_count": null,
      "metadata": {
        "id": "of3vD6f2jDP6"
      },
      "outputs": [],
      "source": [
        "import numpy as np\n",
        "import tensorflow as tf"
      ]
    },
    {
      "cell_type": "code",
      "execution_count": null,
      "metadata": {
        "id": "hTZVjvO12J0v"
      },
      "outputs": [],
      "source": [
        "import nltk\n",
        "import math\n",
        "import json\n",
        "import tensorflow_hub as hub\n",
        "import spacy"
      ]
    },
    {
      "cell_type": "code",
      "execution_count": null,
      "metadata": {
        "colab": {
          "base_uri": "https://localhost:8080/"
        },
        "id": "nv3_5zVS14KO",
        "outputId": "d97a0bbd-4f19-4490-efa6-4cea047d1ab8"
      },
      "outputs": [
        {
          "output_type": "stream",
          "name": "stdout",
          "text": [
            "[nltk_data] Downloading package punkt to /root/nltk_data...\n",
            "[nltk_data]   Unzipping tokenizers/punkt.zip.\n",
            "[nltk_data] Downloading package gutenberg to /root/nltk_data...\n",
            "[nltk_data]   Unzipping corpora/gutenberg.zip.\n"
          ]
        },
        {
          "output_type": "execute_result",
          "data": {
            "text/plain": [
              "True"
            ]
          },
          "metadata": {},
          "execution_count": 5
        }
      ],
      "source": [
        "nltk.download('punkt')\n",
        "nltk.download('gutenberg')"
      ]
    },
    {
      "cell_type": "code",
      "execution_count": null,
      "metadata": {
        "id": "DOB779cVjGy2"
      },
      "outputs": [],
      "source": [
        "from tensorflow.keras.layers import SimpleRNN,GRU,LSTM,Dense,Embedding,InputLayer,Input\n",
        "from tensorflow.keras.optimizers import Adam\n",
        "from tensorflow.keras.metrics import CategoricalCrossentropy\n",
        "from tensorflow.keras.losses import CategoricalCrossentropy,categorical_crossentropy\n",
        "from tensorflow.keras import Model\n",
        "from tensorflow.keras.preprocessing.text import Tokenizer\n",
        "from tensorflow.keras.preprocessing.sequence import pad_sequences\n",
        "from nltk.corpus import gutenberg"
      ]
    },
    {
      "cell_type": "code",
      "execution_count": null,
      "metadata": {
        "colab": {
          "base_uri": "https://localhost:8080/",
          "height": 54
        },
        "id": "-G32UEhg0mP9",
        "outputId": "06776fc0-4e5f-4954-966d-b1c2ff354a77"
      },
      "outputs": [
        {
          "output_type": "execute_result",
          "data": {
            "application/vnd.google.colaboratory.intrinsic+json": {
              "type": "string"
            },
            "text/plain": [
              "'data=open(\"/content/drive/MyDrive/PhD/Data Sources/WhatsApp/corpus.txt\")\\ndata=data.read()'"
            ]
          },
          "metadata": {},
          "execution_count": 7
        }
      ],
      "source": [
        "\"\"\"data=open(\"/content/drive/MyDrive/PhD/Data Sources/WhatsApp/corpus.txt\")\n",
        "data=data.read()\"\"\""
      ]
    },
    {
      "cell_type": "code",
      "source": [
        "data=open(\"0001a.txt\")\n",
        "data=data.read()"
      ],
      "metadata": {
        "id": "Xbix7bS71Pmx"
      },
      "execution_count": null,
      "outputs": []
    },
    {
      "cell_type": "markdown",
      "source": [
        "# New section"
      ],
      "metadata": {
        "id": "kn8HKOJS1fA4"
      }
    },
    {
      "cell_type": "code",
      "execution_count": null,
      "metadata": {
        "colab": {
          "base_uri": "https://localhost:8080/",
          "height": 238
        },
        "id": "JxzWLbrNT-bk",
        "outputId": "e291a2f6-7de0-424b-8911-f886d962e14f"
      },
      "outputs": [
        {
          "output_type": "execute_result",
          "data": {
            "application/vnd.google.colaboratory.intrinsic+json": {
              "type": "string"
            },
            "text/plain": [
              "\"Racism is still a problem within our society today, and many ethnic minorities face inequalities in many areas, including education, housing, and employment. Ethnic minorities are concentrated into certain areas of the job market, such as manufacture and communication (Brown, 1992), are most likely to be the victims of assault (Abercrombie et al, 1994), and recent surveys have shown that racist ideas still exist in society. This can be seen in a survey, carried out in 1993, that asked a white sample whether they agreed or disagreed with the statement: 'Immigration has enriched the quality of life in Britain' and nearly half of the sample disagreed (Abercrombie et al, 1994, p255). In this essay I will look at what racism is, and how it is defined in contemporary society, and I will then explore why it still persists. In this section I will cover three areas that I think have contributed to the continued existence of racism; culture, economy and politics, all of which have meant that racism is an integral and internalised part of our society, however I will not be looking at individual or specific cases of racism, rather exploring a broader explanation as to why it continues. Racism is a very hard concept to define. Hall argues that it is not a static phenomenon, but is constantly changing and redefining (Hall, 1978, cited in Miles, 1989, p64). In the nineteenth century racism was a product of scientific ideas, and the belief that people could be distinguished by the term race, using particular physical features, and that certain races were superior to others (Miles, 1989). However throughout the nineteenth century racism was rejected as a scientific concept (Banton, 1987, cited in Miles, 1989, p49). It is now important to realise that racism is not just an ideology but also a practice, and in contemporary society it has been defined as a process by which subordinated groups are excluded. This idea is expanded on by Carmichael and Hamilton who argue that it is; 'the predication of decisions and policies on considerations of race for the purpose of subordinating a racial group and maintaining control over that group' (Carmichael and Hamilton, 1968, cited in Miles, 1989, p51). This acknowledges that racism is not just a belief, but also an action, but in this essay I will concentrate on why the ideology of racism is still prevalent within society, as without the continuation of the ideology then racist actions would not take place. I will now look at why racism still persists in society, and the first explanation I will consider is culture. Racist beliefs are part of a legacy of both the slave trade and colonialism as racial categorisation played a large part in the justification of both periods. The idea that humankind was split into different races and that certain races, usually white British, were superior was strong at the time, and reinforced to justify slavery and imperialism. These ideas have left a strong legacy in coloniser societies today (Fenton, 1999). Europeans constructed themselves as the representatives of superior civilisation, and in doing so also constructed those from other countries as the 'Other', a group of people who were uncivilised, and therefore inferior to the West, an idea that was reinforced through literature, as many travellers at the time focused on the abnormal characteristics of the 'Other', and helped construct the idea that they were barbaric and uncivilised (Miles, 1989). Characteristics such as cannibalism and the degradation of women were picked out as features that made those from the colonised states racially inferior, and uncivilised, and reinforced the idea that a racialist hierarchy existed that placed those from the West at the top. By defining people from these countries as the 'Other' they were automatically excluded from the society of the West (Miles, 1989). Although this construction is no longer as prevalent in society, it has impacted on racism in society today. Images and ideas that were associated with the 'Other', for example the veil in Islam, are still around today, and the racial ideas that were leant to these images still exist. There is also the idea that White Europeans wished to continue their superiority over colonised societies, so sustained the ideas associated with the inferior 'Other' in order to maintain it (Fenton, 1999). It can also be argued that racism persists through culture due to the ideas of nationalism. Nationalism is a very popular discourse in contemporary society, as it was during the period of colonialisation, and the two are very closely linked, with ideas of nationalism often associated with both the ideology and actions of racism (Fenton, 1999). Overall colonialism has impacted on the racist ideas prevalent in today's society, as although the concept of 'Other' that existed in the nineteenth century no longer continues the definition of 'Other' has changed (Miles, 1989), and it has left a legacy of racism in contemporary society. However this is not the only reason for the continuation of racism, economic factors have also had an impact. The racism apparent at the time of colonialisation has been reinforced through the labour market. During this period the racial ideas were put into practice in the economy as those constructed as the 'Other' were exploited through the trade links established with the colonies, by those in power (Miles, 1989) showing that racialism has been imbedded into the economy since before capitalism. However since the emergence of capitalism these racist ideas have been used to support the capitalist market. Capitalists have ensured that ethnic minorities are viewed as suitable only for menial jobs, as they can easily exploit them, and this has reinforced the idea that race determines your skills and abilities, therefore causing racism to be imbedded within the capitalist market (Fenton, 1999). Castles and Kosack have argued that capitalism requires a 'reserve army of labour' to ensure the successful continuation of the economic production along capitalist values, and that ethnic minorities provide this army (Procter, Lecture notes, 2004). However by constructing ethnic minorities as a reserve army of labour racist beliefs are reinforced, as they are viewed as both inferior and only suitable for inferior jobs, but also as a threat to the white workers, creating a sense of racism in white workers. Therefore the racist beliefs apparent in the culture of colonialism are recreated in the current economy, ensuring that racism persists, although there are some problems with this idea as it ignores the white people employed in menial jobs and over emphasises the idea that ethnic minorities are needed as a 'reserve army of labour' (Miles, 1989). However politics, and the policies of British political parties over the twentieth century have also ensured that these racial ideas continue. Since the Second World War British politics reinforced have the idea that those from other races are inferior. In the 1950s both the Labour and Conservative Parties were openly racist (Brown, 1992), and they constructed immigrants as a social problem. Throughout the 1950s the debates on immigration focused on the idea that the number of black immigrants entering Britain needed to be restricted as they were posing a threat to British society. Immigrants were linked with social problems, including shortages of housing and crime, and through this connection racism was reinforced, as people began to see immigrants and people from other races as a problem. Emphasis was put on their undesirable behaviour, for example crime, and prostitution, despite the fact that much of this was not carried out by immigrants (Solomos, 1989, ensuring that people linked the idea of undesirable with immigrants. This construction of immigrants as a problem continued throughout out the 1960s, and in 1962 the Commonwealth Immigrants Act was introduced, which placed restrictions on the number of black immigrants entering the country (Solomos, 1989). By the 1970s legislation had been bought in which controlled the entry of non-white immigrants through a voucher system, giving the government control over who entered the country, and what work they could do following their entry (Brown, 1992). This political racism persisted after 1979, with Margaret Thatcher again emphasising the danger to British society that immigrants pose (Solomos, 1989), and these ideas can still be seen today, with the current clamp-down on the number of asylum seekers entering the country. Overall the policies of the government since the Second World War have made racism an integral part of our society, and ensured that non-whites are still viewed with distaste and seen as inferior. In conclusion racism, which can be defined as an ideology which categorises people as inferior according to their race, and is put into practice through many policies and actions, which seek to exclude non-whites from many areas of society, can still be seen in today's society. There are three reasons for this. Firstly the culture of colonialism and the belief that the 'Other' is inferior is still apparent in our society today. Secondly these beliefs are reinforced through the economy, as capitalism exploits ethnic minorities, and ensures that they are viewed as less skilled, and finally racism is embedded in our political system through the policies of political parties and the links they make between non-white immigrants and social problems. All of these processes work together in contemporary society to ensure that racism still continues, and non-whites are excluded. \""
            ]
          },
          "metadata": {},
          "execution_count": 12
        }
      ],
      "source": [
        "data"
      ]
    },
    {
      "cell_type": "code",
      "execution_count": null,
      "metadata": {
        "id": "L4R4V4h1-Vyo"
      },
      "outputs": [],
      "source": [
        "corpus_list=[]\n",
        "corpus=sent_tokenize(data)\n",
        "for sent in corpus:\n",
        "  corpus_list.append([sent])"
      ]
    },
    {
      "cell_type": "code",
      "execution_count": null,
      "metadata": {
        "id": "pv-sWlN5rlq8",
        "colab": {
          "base_uri": "https://localhost:8080/"
        },
        "outputId": "f3d742a1-fea3-4694-ad5b-bbbb4bd6310e"
      },
      "outputs": [
        {
          "output_type": "execute_result",
          "data": {
            "text/plain": [
              "['Racism is still a problem within our society today, and many ethnic minorities face inequalities in many areas, including education, housing, and employment.',\n",
              " 'Ethnic minorities are concentrated into certain areas of the job market, such as manufacture and communication (Brown, 1992), are most likely to be the victims of assault (Abercrombie et al, 1994), and recent surveys have shown that racist ideas still exist in society.',\n",
              " \"This can be seen in a survey, carried out in 1993, that asked a white sample whether they agreed or disagreed with the statement: 'Immigration has enriched the quality of life in Britain' and nearly half of the sample disagreed (Abercrombie et al, 1994, p255).\",\n",
              " 'In this essay I will look at what racism is, and how it is defined in contemporary society, and I will then explore why it still persists.',\n",
              " 'In this section I will cover three areas that I think have contributed to the continued existence of racism; culture, economy and politics, all of which have meant that racism is an integral and internalised part of our society, however I will not be looking at individual or specific cases of racism, rather exploring a broader explanation as to why it continues.',\n",
              " 'Racism is a very hard concept to define.',\n",
              " 'Hall argues that it is not a static phenomenon, but is constantly changing and redefining (Hall, 1978, cited in Miles, 1989, p64).',\n",
              " 'In the nineteenth century racism was a product of scientific ideas, and the belief that people could be distinguished by the term race, using particular physical features, and that certain races were superior to others (Miles, 1989).',\n",
              " 'However throughout the nineteenth century racism was rejected as a scientific concept (Banton, 1987, cited in Miles, 1989, p49).',\n",
              " 'It is now important to realise that racism is not just an ideology but also a practice, and in contemporary society it has been defined as a process by which subordinated groups are excluded.',\n",
              " \"This idea is expanded on by Carmichael and Hamilton who argue that it is; 'the predication of decisions and policies on considerations of race for the purpose of subordinating a racial group and maintaining control over that group' (Carmichael and Hamilton, 1968, cited in Miles, 1989, p51).\",\n",
              " 'This acknowledges that racism is not just a belief, but also an action, but in this essay I will concentrate on why the ideology of racism is still prevalent within society, as without the continuation of the ideology then racist actions would not take place.',\n",
              " 'I will now look at why racism still persists in society, and the first explanation I will consider is culture.',\n",
              " 'Racist beliefs are part of a legacy of both the slave trade and colonialism as racial categorisation played a large part in the justification of both periods.',\n",
              " 'The idea that humankind was split into different races and that certain races, usually white British, were superior was strong at the time, and reinforced to justify slavery and imperialism.',\n",
              " 'These ideas have left a strong legacy in coloniser societies today (Fenton, 1999).',\n",
              " \"Europeans constructed themselves as the representatives of superior civilisation, and in doing so also constructed those from other countries as the 'Other', a group of people who were uncivilised, and therefore inferior to the West, an idea that was reinforced through literature, as many travellers at the time focused on the abnormal characteristics of the 'Other', and helped construct the idea that they were barbaric and uncivilised (Miles, 1989).\",\n",
              " 'Characteristics such as cannibalism and the degradation of women were picked out as features that made those from the colonised states racially inferior, and uncivilised, and reinforced the idea that a racialist hierarchy existed that placed those from the West at the top.',\n",
              " \"By defining people from these countries as the 'Other' they were automatically excluded from the society of the West (Miles, 1989).\",\n",
              " 'Although this construction is no longer as prevalent in society, it has impacted on racism in society today.',\n",
              " \"Images and ideas that were associated with the 'Other', for example the veil in Islam, are still around today, and the racial ideas that were leant to these images still exist.\",\n",
              " \"There is also the idea that White Europeans wished to continue their superiority over colonised societies, so sustained the ideas associated with the inferior 'Other' in order to maintain it (Fenton, 1999).\",\n",
              " 'It can also be argued that racism persists through culture due to the ideas of nationalism.',\n",
              " 'Nationalism is a very popular discourse in contemporary society, as it was during the period of colonialisation, and the two are very closely linked, with ideas of nationalism often associated with both the ideology and actions of racism (Fenton, 1999).',\n",
              " \"Overall colonialism has impacted on the racist ideas prevalent in today's society, as although the concept of 'Other' that existed in the nineteenth century no longer continues the definition of 'Other' has changed (Miles, 1989), and it has left a legacy of racism in contemporary society.\",\n",
              " 'However this is not the only reason for the continuation of racism, economic factors have also had an impact.',\n",
              " 'The racism apparent at the time of colonialisation has been reinforced through the labour market.',\n",
              " \"During this period the racial ideas were put into practice in the economy as those constructed as the 'Other' were exploited through the trade links established with the colonies, by those in power (Miles, 1989) showing that racialism has been imbedded into the economy since before capitalism.\",\n",
              " 'However since the emergence of capitalism these racist ideas have been used to support the capitalist market.',\n",
              " 'Capitalists have ensured that ethnic minorities are viewed as suitable only for menial jobs, as they can easily exploit them, and this has reinforced the idea that race determines your skills and abilities, therefore causing racism to be imbedded within the capitalist market (Fenton, 1999).',\n",
              " \"Castles and Kosack have argued that capitalism requires a 'reserve army of labour' to ensure the successful continuation of the economic production along capitalist values, and that ethnic minorities provide this army (Procter, Lecture notes, 2004).\",\n",
              " 'However by constructing ethnic minorities as a reserve army of labour racist beliefs are reinforced, as they are viewed as both inferior and only suitable for inferior jobs, but also as a threat to the white workers, creating a sense of racism in white workers.',\n",
              " \"Therefore the racist beliefs apparent in the culture of colonialism are recreated in the current economy, ensuring that racism persists, although there are some problems with this idea as it ignores the white people employed in menial jobs and over emphasises the idea that ethnic minorities are needed as a 'reserve army of labour' (Miles, 1989).\",\n",
              " 'However politics, and the policies of British political parties over the twentieth century have also ensured that these racial ideas continue.',\n",
              " 'Since the Second World War British politics reinforced have the idea that those from other races are inferior.',\n",
              " 'In the 1950s both the Labour and Conservative Parties were openly racist (Brown, 1992), and they constructed immigrants as a social problem.',\n",
              " 'Throughout the 1950s the debates on immigration focused on the idea that the number of black immigrants entering Britain needed to be restricted as they were posing a threat to British society.',\n",
              " 'Immigrants were linked with social problems, including shortages of housing and crime, and through this connection racism was reinforced, as people began to see immigrants and people from other races as a problem.',\n",
              " 'Emphasis was put on their undesirable behaviour, for example crime, and prostitution, despite the fact that much of this was not carried out by immigrants (Solomos, 1989, ensuring that people linked the idea of undesirable with immigrants.',\n",
              " 'This construction of immigrants as a problem continued throughout out the 1960s, and in 1962 the Commonwealth Immigrants Act was introduced, which placed restrictions on the number of black immigrants entering the country (Solomos, 1989).',\n",
              " 'By the 1970s legislation had been bought in which controlled the entry of non-white immigrants through a voucher system, giving the government control over who entered the country, and what work they could do following their entry (Brown, 1992).',\n",
              " 'This political racism persisted after 1979, with Margaret Thatcher again emphasising the danger to British society that immigrants pose (Solomos, 1989), and these ideas can still be seen today, with the current clamp-down on the number of asylum seekers entering the country.',\n",
              " 'Overall the policies of the government since the Second World War have made racism an integral part of our society, and ensured that non-whites are still viewed with distaste and seen as inferior.',\n",
              " \"In conclusion racism, which can be defined as an ideology which categorises people as inferior according to their race, and is put into practice through many policies and actions, which seek to exclude non-whites from many areas of society, can still be seen in today's society.\",\n",
              " 'There are three reasons for this.',\n",
              " \"Firstly the culture of colonialism and the belief that the 'Other' is inferior is still apparent in our society today.\",\n",
              " 'Secondly these beliefs are reinforced through the economy, as capitalism exploits ethnic minorities, and ensures that they are viewed as less skilled, and finally racism is embedded in our political system through the policies of political parties and the links they make between non-white immigrants and social problems.',\n",
              " 'All of these processes work together in contemporary society to ensure that racism still continues, and non-whites are excluded.']"
            ]
          },
          "metadata": {},
          "execution_count": 14
        }
      ],
      "source": [
        "corpus"
      ]
    },
    {
      "cell_type": "code",
      "execution_count": null,
      "metadata": {
        "colab": {
          "base_uri": "https://localhost:8080/"
        },
        "id": "bQv2dcaoC8N4",
        "outputId": "3e6913eb-de94-4fc8-fb10-092e14f08e33"
      },
      "outputs": [
        {
          "output_type": "execute_result",
          "data": {
            "text/plain": [
              "48"
            ]
          },
          "metadata": {},
          "execution_count": 15
        }
      ],
      "source": [
        "len(corpus_list)"
      ]
    },
    {
      "cell_type": "code",
      "execution_count": null,
      "metadata": {
        "id": "YXVsaG1mCPpA"
      },
      "outputs": [],
      "source": [
        "vectorizer = TfidfVectorizer()"
      ]
    },
    {
      "cell_type": "code",
      "execution_count": null,
      "metadata": {
        "id": "TUvcHY0tCQhE"
      },
      "outputs": [],
      "source": [
        "X = vectorizer.fit_transform(corpus)"
      ]
    },
    {
      "cell_type": "code",
      "source": [
        "X.shape"
      ],
      "metadata": {
        "colab": {
          "base_uri": "https://localhost:8080/"
        },
        "id": "CQj7ddPW2-BA",
        "outputId": "5c9defb0-7277-469e-c092-01999b939b43"
      },
      "execution_count": null,
      "outputs": [
        {
          "output_type": "execute_result",
          "data": {
            "text/plain": [
              "(48, 459)"
            ]
          },
          "metadata": {},
          "execution_count": 21
        }
      ]
    },
    {
      "cell_type": "code",
      "execution_count": null,
      "metadata": {
        "id": "7xJDOiXFCShU"
      },
      "outputs": [],
      "source": [
        "vocab=vectorizer.get_feature_names_out()"
      ]
    },
    {
      "cell_type": "code",
      "source": [
        "vocab[100]"
      ],
      "metadata": {
        "colab": {
          "base_uri": "https://localhost:8080/",
          "height": 36
        },
        "id": "w_i6XnFz3TuO",
        "outputId": "fa98e0d4-58b0-42ac-c7ba-e6ae0ea120c2"
      },
      "execution_count": null,
      "outputs": [
        {
          "output_type": "execute_result",
          "data": {
            "application/vnd.google.colaboratory.intrinsic+json": {
              "type": "string"
            },
            "text/plain": [
              "'consider'"
            ]
          },
          "metadata": {},
          "execution_count": 33
        }
      ]
    },
    {
      "cell_type": "code",
      "execution_count": null,
      "metadata": {
        "colab": {
          "base_uri": "https://localhost:8080/"
        },
        "id": "3UGNKKvTDr0b",
        "outputId": "d59f090c-802c-4062-bd68-bd247a8444a1"
      },
      "outputs": [
        {
          "output_type": "execute_result",
          "data": {
            "text/plain": [
              "459"
            ]
          },
          "metadata": {},
          "execution_count": 20
        }
      ],
      "source": [
        "len(vocab)"
      ]
    },
    {
      "cell_type": "code",
      "execution_count": null,
      "metadata": {
        "id": "XagMp3SjCh89"
      },
      "outputs": [],
      "source": [
        "embeddings_array=X.toarray().T"
      ]
    },
    {
      "cell_type": "code",
      "source": [
        "embeddings_array[100]"
      ],
      "metadata": {
        "colab": {
          "base_uri": "https://localhost:8080/"
        },
        "id": "eR8bhRWY4AhF",
        "outputId": "22d568a7-342d-4ebb-e3e3-d1d0703fe4c8"
      },
      "execution_count": null,
      "outputs": [
        {
          "output_type": "execute_result",
          "data": {
            "text/plain": [
              "array([0.        , 0.        , 0.        , 0.        , 0.        ,\n",
              "       0.        , 0.        , 0.        , 0.        , 0.        ,\n",
              "       0.        , 0.        , 0.31038711, 0.        , 0.        ,\n",
              "       0.        , 0.        , 0.        , 0.        , 0.        ,\n",
              "       0.        , 0.        , 0.        , 0.        , 0.        ,\n",
              "       0.        , 0.        , 0.        , 0.        , 0.        ,\n",
              "       0.        , 0.        , 0.        , 0.        , 0.        ,\n",
              "       0.        , 0.        , 0.        , 0.        , 0.        ,\n",
              "       0.        , 0.        , 0.        , 0.        , 0.        ,\n",
              "       0.        , 0.        , 0.        ])"
            ]
          },
          "metadata": {},
          "execution_count": 30
        }
      ]
    },
    {
      "cell_type": "code",
      "execution_count": null,
      "metadata": {
        "id": "DT8c7w-7CjdO"
      },
      "outputs": [],
      "source": [
        "pca=PCA(n_components=10)"
      ]
    },
    {
      "cell_type": "code",
      "execution_count": null,
      "metadata": {
        "id": "xiMVVGCJCmet"
      },
      "outputs": [],
      "source": [
        "dense_embeddings=pca.fit_transform(embeddings_array)"
      ]
    },
    {
      "cell_type": "code",
      "execution_count": null,
      "metadata": {
        "id": "tu2Dq94rCuF-"
      },
      "outputs": [],
      "source": [
        "embeddings_dict={}"
      ]
    },
    {
      "cell_type": "code",
      "execution_count": null,
      "metadata": {
        "id": "8Q64WXqFCzlV"
      },
      "outputs": [],
      "source": [
        "for i in range(len(vocab)):\n",
        "  embeddings_dict[vocab[i]]=dense_embeddings[i].tolist()"
      ]
    },
    {
      "cell_type": "code",
      "execution_count": null,
      "metadata": {
        "id": "qqRXRezK2WAu"
      },
      "outputs": [],
      "source": [
        "seq_len=10\n",
        "tokenizer=Tokenizer()\n",
        "tokenizer.fit_on_texts([data])\n",
        "x=tokenizer.texts_to_sequences([data])\n",
        "#x"
      ]
    },
    {
      "cell_type": "code",
      "execution_count": null,
      "metadata": {
        "id": "2PFl9iQ8qgZ3",
        "colab": {
          "base_uri": "https://localhost:8080/"
        },
        "outputId": "c5d91438-33da-4f30-dac7-e54912a4022a"
      },
      "outputs": [
        {
          "output_type": "execute_result",
          "data": {
            "text/plain": [
              "[8,\n",
              " 10,\n",
              " 17,\n",
              " 7,\n",
              " 69,\n",
              " 90,\n",
              " 53,\n",
              " 11,\n",
              " 49,\n",
              " 2,\n",
              " 54,\n",
              " 41,\n",
              " 42,\n",
              " 218,\n",
              " 219,\n",
              " 4,\n",
              " 54,\n",
              " 70,\n",
              " 136,\n",
              " 220,\n",
              " 137,\n",
              " 2,\n",
              " 221,\n",
              " 41,\n",
              " 42,\n",
              " 12,\n",
              " 222,\n",
              " 55,\n",
              " 91,\n",
              " 70,\n",
              " 3,\n",
              " 1,\n",
              " 223,\n",
              " 71,\n",
              " 138,\n",
              " 6,\n",
              " 224,\n",
              " 2,\n",
              " 225,\n",
              " 92,\n",
              " 93,\n",
              " 12,\n",
              " 226,\n",
              " 227,\n",
              " 9,\n",
              " 24,\n",
              " 1,\n",
              " 228,\n",
              " 3,\n",
              " 229,\n",
              " 139,\n",
              " 140,\n",
              " 141,\n",
              " 142,\n",
              " 2,\n",
              " 230,\n",
              " 231,\n",
              " 22,\n",
              " 232,\n",
              " 5,\n",
              " 33,\n",
              " 14,\n",
              " 17,\n",
              " 143,\n",
              " 4,\n",
              " 11,\n",
              " 13,\n",
              " 50,\n",
              " 24,\n",
              " 72,\n",
              " 4,\n",
              " 7,\n",
              " 233,\n",
              " 144,\n",
              " 73,\n",
              " 4,\n",
              " 234,\n",
              " 5,\n",
              " 235,\n",
              " 7,\n",
              " 34,\n",
              " 145,\n",
              " 236,\n",
              " 25,\n",
              " 237,\n",
              " 146,\n",
              " 147,\n",
              " 18,\n",
              " 1,\n",
              " 238,\n",
              " 239,\n",
              " 27,\n",
              " 240,\n",
              " 1,\n",
              " 241,\n",
              " 3,\n",
              " 242,\n",
              " 4,\n",
              " 243,\n",
              " 2,\n",
              " 244,\n",
              " 245,\n",
              " 3,\n",
              " 1,\n",
              " 145,\n",
              " 147,\n",
              " 139,\n",
              " 140,\n",
              " 141,\n",
              " 142,\n",
              " 246,\n",
              " 4,\n",
              " 13,\n",
              " 148,\n",
              " 35,\n",
              " 43,\n",
              " 149,\n",
              " 44,\n",
              " 150,\n",
              " 8,\n",
              " 10,\n",
              " 2,\n",
              " 247,\n",
              " 15,\n",
              " 10,\n",
              " 94,\n",
              " 4,\n",
              " 56,\n",
              " 11,\n",
              " 2,\n",
              " 35,\n",
              " 43,\n",
              " 151,\n",
              " 248,\n",
              " 74,\n",
              " 15,\n",
              " 17,\n",
              " 75,\n",
              " 4,\n",
              " 13,\n",
              " 249,\n",
              " 35,\n",
              " 43,\n",
              " 250,\n",
              " 152,\n",
              " 70,\n",
              " 5,\n",
              " 35,\n",
              " 251,\n",
              " 22,\n",
              " 252,\n",
              " 9,\n",
              " 1,\n",
              " 153,\n",
              " 253,\n",
              " 3,\n",
              " 8,\n",
              " 57,\n",
              " 58,\n",
              " 2,\n",
              " 95,\n",
              " 154,\n",
              " 3,\n",
              " 45,\n",
              " 22,\n",
              " 254,\n",
              " 5,\n",
              " 8,\n",
              " 10,\n",
              " 46,\n",
              " 155,\n",
              " 2,\n",
              " 255,\n",
              " 76,\n",
              " 3,\n",
              " 53,\n",
              " 11,\n",
              " 51,\n",
              " 35,\n",
              " 43,\n",
              " 47,\n",
              " 24,\n",
              " 256,\n",
              " 44,\n",
              " 257,\n",
              " 146,\n",
              " 258,\n",
              " 259,\n",
              " 3,\n",
              " 8,\n",
              " 260,\n",
              " 261,\n",
              " 7,\n",
              " 262,\n",
              " 156,\n",
              " 6,\n",
              " 9,\n",
              " 74,\n",
              " 15,\n",
              " 96,\n",
              " 8,\n",
              " 10,\n",
              " 7,\n",
              " 97,\n",
              " 263,\n",
              " 98,\n",
              " 9,\n",
              " 264,\n",
              " 157,\n",
              " 265,\n",
              " 5,\n",
              " 15,\n",
              " 10,\n",
              " 47,\n",
              " 7,\n",
              " 266,\n",
              " 267,\n",
              " 59,\n",
              " 10,\n",
              " 268,\n",
              " 269,\n",
              " 2,\n",
              " 270,\n",
              " 157,\n",
              " 271,\n",
              " 99,\n",
              " 4,\n",
              " 28,\n",
              " 19,\n",
              " 272,\n",
              " 4,\n",
              " 1,\n",
              " 100,\n",
              " 77,\n",
              " 8,\n",
              " 26,\n",
              " 7,\n",
              " 273,\n",
              " 3,\n",
              " 158,\n",
              " 14,\n",
              " 2,\n",
              " 1,\n",
              " 101,\n",
              " 5,\n",
              " 36,\n",
              " 159,\n",
              " 24,\n",
              " 274,\n",
              " 37,\n",
              " 1,\n",
              " 275,\n",
              " 78,\n",
              " 276,\n",
              " 277,\n",
              " 278,\n",
              " 160,\n",
              " 2,\n",
              " 5,\n",
              " 91,\n",
              " 60,\n",
              " 16,\n",
              " 102,\n",
              " 9,\n",
              " 279,\n",
              " 28,\n",
              " 19,\n",
              " 51,\n",
              " 103,\n",
              " 1,\n",
              " 100,\n",
              " 77,\n",
              " 8,\n",
              " 26,\n",
              " 280,\n",
              " 6,\n",
              " 7,\n",
              " 158,\n",
              " 98,\n",
              " 281,\n",
              " 282,\n",
              " 99,\n",
              " 4,\n",
              " 28,\n",
              " 19,\n",
              " 283,\n",
              " 15,\n",
              " 10,\n",
              " 161,\n",
              " 284,\n",
              " 9,\n",
              " 285,\n",
              " 5,\n",
              " 8,\n",
              " 10,\n",
              " 47,\n",
              " 162,\n",
              " 46,\n",
              " 61,\n",
              " 59,\n",
              " 38,\n",
              " 7,\n",
              " 104,\n",
              " 2,\n",
              " 4,\n",
              " 56,\n",
              " 11,\n",
              " 15,\n",
              " 27,\n",
              " 62,\n",
              " 94,\n",
              " 6,\n",
              " 7,\n",
              " 286,\n",
              " 37,\n",
              " 45,\n",
              " 287,\n",
              " 288,\n",
              " 12,\n",
              " 105,\n",
              " 13,\n",
              " 20,\n",
              " 10,\n",
              " 289,\n",
              " 23,\n",
              " 37,\n",
              " 163,\n",
              " 2,\n",
              " 164,\n",
              " 106,\n",
              " 290,\n",
              " 5,\n",
              " 15,\n",
              " 10,\n",
              " 291,\n",
              " 292,\n",
              " 3,\n",
              " 293,\n",
              " 2,\n",
              " 63,\n",
              " 23,\n",
              " 294,\n",
              " 3,\n",
              " 78,\n",
              " 48,\n",
              " 1,\n",
              " 295,\n",
              " 3,\n",
              " 296,\n",
              " 7,\n",
              " 64,\n",
              " 165,\n",
              " 2,\n",
              " 297,\n",
              " 166,\n",
              " 65,\n",
              " 5,\n",
              " 298,\n",
              " 163,\n",
              " 2,\n",
              " 164,\n",
              " 299,\n",
              " 99,\n",
              " 4,\n",
              " 28,\n",
              " 19,\n",
              " 300,\n",
              " 13,\n",
              " 301,\n",
              " 5,\n",
              " 8,\n",
              " 10,\n",
              " 47,\n",
              " 162,\n",
              " 7,\n",
              " 101,\n",
              " 59,\n",
              " 38,\n",
              " 46,\n",
              " 302,\n",
              " 59,\n",
              " 4,\n",
              " 13,\n",
              " 148,\n",
              " 35,\n",
              " 43,\n",
              " 303,\n",
              " 23,\n",
              " 74,\n",
              " 1,\n",
              " 61,\n",
              " 3,\n",
              " 8,\n",
              " 10,\n",
              " 17,\n",
              " 107,\n",
              " 90,\n",
              " 11,\n",
              " 6,\n",
              " 304,\n",
              " 1,\n",
              " 108,\n",
              " 3,\n",
              " 1,\n",
              " 61,\n",
              " 151,\n",
              " 33,\n",
              " 109,\n",
              " 305,\n",
              " 47,\n",
              " 306,\n",
              " 307,\n",
              " 35,\n",
              " 43,\n",
              " 161,\n",
              " 149,\n",
              " 44,\n",
              " 74,\n",
              " 8,\n",
              " 17,\n",
              " 75,\n",
              " 4,\n",
              " 11,\n",
              " 2,\n",
              " 1,\n",
              " 308,\n",
              " 156,\n",
              " 35,\n",
              " 43,\n",
              " 309,\n",
              " 10,\n",
              " 57,\n",
              " 33,\n",
              " 79,\n",
              " 12,\n",
              " 76,\n",
              " 3,\n",
              " 7,\n",
              " 110,\n",
              " 3,\n",
              " 66,\n",
              " 1,\n",
              " 310,\n",
              " 167,\n",
              " 2,\n",
              " 80,\n",
              " 6,\n",
              " 64,\n",
              " 311,\n",
              " 312,\n",
              " 7,\n",
              " 313,\n",
              " 76,\n",
              " 4,\n",
              " 1,\n",
              " 314,\n",
              " 3,\n",
              " 66,\n",
              " 315,\n",
              " 1,\n",
              " 20,\n",
              " 5,\n",
              " 316,\n",
              " 26,\n",
              " 317,\n",
              " 55,\n",
              " 318,\n",
              " 60,\n",
              " 2,\n",
              " 5,\n",
              " 91,\n",
              " 60,\n",
              " 319,\n",
              " 34,\n",
              " 67,\n",
              " 16,\n",
              " 102,\n",
              " 26,\n",
              " 168,\n",
              " 44,\n",
              " 1,\n",
              " 111,\n",
              " 2,\n",
              " 29,\n",
              " 9,\n",
              " 320,\n",
              " 321,\n",
              " 2,\n",
              " 322,\n",
              " 39,\n",
              " 14,\n",
              " 22,\n",
              " 169,\n",
              " 7,\n",
              " 168,\n",
              " 110,\n",
              " 4,\n",
              " 323,\n",
              " 170,\n",
              " 49,\n",
              " 81,\n",
              " 82,\n",
              " 171,\n",
              " 83,\n",
              " 324,\n",
              " 6,\n",
              " 1,\n",
              " 325,\n",
              " 3,\n",
              " 102,\n",
              " 326,\n",
              " 2,\n",
              " 4,\n",
              " 327,\n",
              " 172,\n",
              " 38,\n",
              " 83,\n",
              " 52,\n",
              " 40,\n",
              " 112,\n",
              " 173,\n",
              " 6,\n",
              " 1,\n",
              " 30,\n",
              " 7,\n",
              " 165,\n",
              " 3,\n",
              " 36,\n",
              " 106,\n",
              " 16,\n",
              " 113,\n",
              " 2,\n",
              " 114,\n",
              " 31,\n",
              " 9,\n",
              " 1,\n",
              " 115,\n",
              " 46,\n",
              " 20,\n",
              " 5,\n",
              " 26,\n",
              " 29,\n",
              " 32,\n",
              " 328,\n",
              " 6,\n",
              " 54,\n",
              " 329,\n",
              " 44,\n",
              " 1,\n",
              " 111,\n",
              " 174,\n",
              " 23,\n",
              " 1,\n",
              " 330,\n",
              " 175,\n",
              " 3,\n",
              " 1,\n",
              " 30,\n",
              " 2,\n",
              " 331,\n",
              " 332,\n",
              " 1,\n",
              " 20,\n",
              " 5,\n",
              " 25,\n",
              " 16,\n",
              " 333,\n",
              " 2,\n",
              " 113,\n",
              " 28,\n",
              " 19,\n",
              " 175,\n",
              " 138,\n",
              " 6,\n",
              " 334,\n",
              " 2,\n",
              " 1,\n",
              " 335,\n",
              " 3,\n",
              " 336,\n",
              " 16,\n",
              " 337,\n",
              " 73,\n",
              " 6,\n",
              " 160,\n",
              " 5,\n",
              " 176,\n",
              " 52,\n",
              " 40,\n",
              " 1,\n",
              " 177,\n",
              " 338,\n",
              " 339,\n",
              " 31,\n",
              " 2,\n",
              " 113,\n",
              " 2,\n",
              " 29,\n",
              " 1,\n",
              " 20,\n",
              " 5,\n",
              " 7,\n",
              " 340,\n",
              " 341,\n",
              " 178,\n",
              " 5,\n",
              " 179,\n",
              " 52,\n",
              " 40,\n",
              " 1,\n",
              " 115,\n",
              " 44,\n",
              " 1,\n",
              " 342,\n",
              " 37,\n",
              " 343,\n",
              " 36,\n",
              " 40,\n",
              " 39,\n",
              " 173,\n",
              " 6,\n",
              " 1,\n",
              " 30,\n",
              " 25,\n",
              " 16,\n",
              " 344,\n",
              " 105,\n",
              " 40,\n",
              " 1,\n",
              " 11,\n",
              " 3,\n",
              " 1,\n",
              " 115,\n",
              " 28,\n",
              " 19,\n",
              " 116,\n",
              " 13,\n",
              " 180,\n",
              " 10,\n",
              " 181,\n",
              " 182,\n",
              " 6,\n",
              " 107,\n",
              " 4,\n",
              " 11,\n",
              " 15,\n",
              " 27,\n",
              " 183,\n",
              " 23,\n",
              " 8,\n",
              " 4,\n",
              " 11,\n",
              " 49,\n",
              " 184,\n",
              " 2,\n",
              " 14,\n",
              " 5,\n",
              " 16,\n",
              " 117,\n",
              " 18,\n",
              " 1,\n",
              " 30,\n",
              " 48,\n",
              " 185,\n",
              " 1,\n",
              " 345,\n",
              " 4,\n",
              " 346,\n",
              " 12,\n",
              " 17,\n",
              " 347,\n",
              " 49,\n",
              " 2,\n",
              " 1,\n",
              " 64,\n",
              " 14,\n",
              " 5,\n",
              " 16,\n",
              " 348,\n",
              " 9,\n",
              " 39,\n",
              " 184,\n",
              " 17,\n",
              " 143,\n",
              " 118,\n",
              " 10,\n",
              " 38,\n",
              " 1,\n",
              " 20,\n",
              " 5,\n",
              " 34,\n",
              " 171,\n",
              " 349,\n",
              " 9,\n",
              " 186,\n",
              " 84,\n",
              " 350,\n",
              " 65,\n",
              " 177,\n",
              " 170,\n",
              " 172,\n",
              " 351,\n",
              " 1,\n",
              " 14,\n",
              " 117,\n",
              " 18,\n",
              " 1,\n",
              " 31,\n",
              " 30,\n",
              " 4,\n",
              " 352,\n",
              " 9,\n",
              " 353,\n",
              " 15,\n",
              " 81,\n",
              " 82,\n",
              " 15,\n",
              " 50,\n",
              " 38,\n",
              " 24,\n",
              " 187,\n",
              " 5,\n",
              " 8,\n",
              " 75,\n",
              " 32,\n",
              " 57,\n",
              " 354,\n",
              " 9,\n",
              " 1,\n",
              " 14,\n",
              " 3,\n",
              " 119,\n",
              " 119,\n",
              " 10,\n",
              " 7,\n",
              " 97,\n",
              " 355,\n",
              " 356,\n",
              " 4,\n",
              " 56,\n",
              " 11,\n",
              " 6,\n",
              " 15,\n",
              " 26,\n",
              " 188,\n",
              " 1,\n",
              " 189,\n",
              " 3,\n",
              " 190,\n",
              " 2,\n",
              " 1,\n",
              " 357,\n",
              " 12,\n",
              " 97,\n",
              " 358,\n",
              " 120,\n",
              " 18,\n",
              " 14,\n",
              " 3,\n",
              " 119,\n",
              " 359,\n",
              " 117,\n",
              " 18,\n",
              " 66,\n",
              " 1,\n",
              " 61,\n",
              " 2,\n",
              " 109,\n",
              " 3,\n",
              " 8,\n",
              " 81,\n",
              " 82,\n",
              " 191,\n",
              " 80,\n",
              " 27,\n",
              " 183,\n",
              " 23,\n",
              " 1,\n",
              " 33,\n",
              " 14,\n",
              " 107,\n",
              " 4,\n",
              " 192,\n",
              " 11,\n",
              " 6,\n",
              " 116,\n",
              " 1,\n",
              " 98,\n",
              " 3,\n",
              " 30,\n",
              " 5,\n",
              " 178,\n",
              " 4,\n",
              " 1,\n",
              " 100,\n",
              " 77,\n",
              " 181,\n",
              " 182,\n",
              " 96,\n",
              " 1,\n",
              " 360,\n",
              " 3,\n",
              " 30,\n",
              " 27,\n",
              " 361,\n",
              " 28,\n",
              " 19,\n",
              " 2,\n",
              " 15,\n",
              " 27,\n",
              " 169,\n",
              " 7,\n",
              " 110,\n",
              " 3,\n",
              " 8,\n",
              " 4,\n",
              " 56,\n",
              " 11,\n",
              " 51,\n",
              " 13,\n",
              " 10,\n",
              " 47,\n",
              " 1,\n",
              " 121,\n",
              " 362,\n",
              " 48,\n",
              " 1,\n",
              " 108,\n",
              " 3,\n",
              " 8,\n",
              " 193,\n",
              " 363,\n",
              " 22,\n",
              " 38,\n",
              " 194,\n",
              " 46,\n",
              " 364,\n",
              " 1,\n",
              " 8,\n",
              " 122,\n",
              " 44,\n",
              " 1,\n",
              " 111,\n",
              " 3,\n",
              " 190,\n",
              " 27,\n",
              " 62,\n",
              " 29,\n",
              " 32,\n",
              " 1,\n",
              " 123,\n",
              " 71,\n",
              " 188,\n",
              " 13,\n",
              " 189,\n",
              " 1,\n",
              " 64,\n",
              " 14,\n",
              " 16,\n",
              " 124,\n",
              " 55,\n",
              " 104,\n",
              " 4,\n",
              " 1,\n",
              " 58,\n",
              " 6,\n",
              " 52,\n",
              " 83,\n",
              " 6,\n",
              " 1,\n",
              " 30,\n",
              " 16,\n",
              " 365,\n",
              " 32,\n",
              " 1,\n",
              " 167,\n",
              " 195,\n",
              " 366,\n",
              " 18,\n",
              " 1,\n",
              " 367,\n",
              " 37,\n",
              " 52,\n",
              " 4,\n",
              " 368,\n",
              " 28,\n",
              " 19,\n",
              " 369,\n",
              " 5,\n",
              " 370,\n",
              " 27,\n",
              " 62,\n",
              " 196,\n",
              " 55,\n",
              " 1,\n",
              " 58,\n",
              " 85,\n",
              " 371,\n",
              " 86,\n",
              " 51,\n",
              " 85,\n",
              " 1,\n",
              " 372,\n",
              " 3,\n",
              " 86,\n",
              " 39,\n",
              " 33,\n",
              " 14,\n",
              " 22,\n",
              " 62,\n",
              " 373,\n",
              " 9,\n",
              " 374,\n",
              " 1,\n",
              " 125,\n",
              " 71,\n",
              " 375,\n",
              " 22,\n",
              " 126,\n",
              " 5,\n",
              " 41,\n",
              " 42,\n",
              " 12,\n",
              " 87,\n",
              " 6,\n",
              " 197,\n",
              " 121,\n",
              " 48,\n",
              " 198,\n",
              " 127,\n",
              " 6,\n",
              " 25,\n",
              " 50,\n",
              " 376,\n",
              " 377,\n",
              " 378,\n",
              " 2,\n",
              " 13,\n",
              " 27,\n",
              " 29,\n",
              " 1,\n",
              " 20,\n",
              " 5,\n",
              " 78,\n",
              " 379,\n",
              " 380,\n",
              " 381,\n",
              " 2,\n",
              " 382,\n",
              " 114,\n",
              " 383,\n",
              " 8,\n",
              " 9,\n",
              " 24,\n",
              " 196,\n",
              " 90,\n",
              " 1,\n",
              " 125,\n",
              " 71,\n",
              " 81,\n",
              " 82,\n",
              " 384,\n",
              " 2,\n",
              " 385,\n",
              " 22,\n",
              " 187,\n",
              " 5,\n",
              " 86,\n",
              " 386,\n",
              " 7,\n",
              " 199,\n",
              " 88,\n",
              " 3,\n",
              " 200,\n",
              " 9,\n",
              " 201,\n",
              " 1,\n",
              " 387,\n",
              " 108,\n",
              " 3,\n",
              " 1,\n",
              " 193,\n",
              " 388,\n",
              " 389,\n",
              " 125,\n",
              " 390,\n",
              " 2,\n",
              " 5,\n",
              " 41,\n",
              " 42,\n",
              " 391,\n",
              " 13,\n",
              " 88,\n",
              " 392,\n",
              " 393,\n",
              " 394,\n",
              " 395,\n",
              " 51,\n",
              " 37,\n",
              " 396,\n",
              " ...]"
            ]
          },
          "metadata": {},
          "execution_count": 37
        }
      ],
      "source": [
        "x[0]"
      ]
    },
    {
      "cell_type": "code",
      "execution_count": null,
      "metadata": {
        "colab": {
          "base_uri": "https://localhost:8080/"
        },
        "id": "we_hprIlUtg4",
        "outputId": "de1b7b4c-4122-4fd1-ac62-b85cd754c4a8"
      },
      "outputs": [
        {
          "output_type": "execute_result",
          "data": {
            "text/plain": [
              "1555"
            ]
          },
          "metadata": {},
          "execution_count": 38
        }
      ],
      "source": [
        "len(x[0])"
      ]
    },
    {
      "cell_type": "code",
      "execution_count": null,
      "metadata": {
        "id": "PvnR-g1E1iEu"
      },
      "outputs": [],
      "source": [
        "#tokenizer.get_config()"
      ]
    },
    {
      "cell_type": "code",
      "execution_count": null,
      "metadata": {
        "id": "RcikPqp7r667"
      },
      "outputs": [],
      "source": [
        "vocab_dict=json.loads(tokenizer.get_config().get('word_index'))"
      ]
    },
    {
      "cell_type": "code",
      "execution_count": null,
      "metadata": {
        "id": "8z9TJ69hq1zM",
        "colab": {
          "base_uri": "https://localhost:8080/"
        },
        "outputId": "a5f8f5fa-758c-4382-c8c3-f2278a9f1f45"
      },
      "outputs": [
        {
          "output_type": "execute_result",
          "data": {
            "text/plain": [
              "{\"'immigration\": 239,\n",
              " \"'other'\": 30,\n",
              " \"'reserve\": 199,\n",
              " \"'the\": 291,\n",
              " '1950s': 210,\n",
              " '1960s': 423,\n",
              " '1962': 424,\n",
              " '1968': 299,\n",
              " '1970s': 429,\n",
              " '1978': 271,\n",
              " '1979': 440,\n",
              " '1987': 282,\n",
              " '1989': 19,\n",
              " '1992': 93,\n",
              " '1993': 234,\n",
              " '1994': 142,\n",
              " '1999': 82,\n",
              " '2004': 395,\n",
              " 'a': 7,\n",
              " 'abercrombie': 139,\n",
              " 'abilities': 382,\n",
              " 'abnormal': 330,\n",
              " 'according': 454,\n",
              " 'acknowledges': 301,\n",
              " 'act': 426,\n",
              " 'action': 302,\n",
              " 'actions': 109,\n",
              " 'after': 439,\n",
              " 'again': 443,\n",
              " 'agreed': 237,\n",
              " 'al': 141,\n",
              " 'all': 154,\n",
              " 'along': 389,\n",
              " 'also': 38,\n",
              " 'although': 116,\n",
              " 'an': 46,\n",
              " 'and': 2,\n",
              " 'apparent': 122,\n",
              " 'are': 12,\n",
              " 'areas': 70,\n",
              " 'argue': 290,\n",
              " 'argued': 187,\n",
              " 'argues': 265,\n",
              " 'army': 88,\n",
              " 'around': 347,\n",
              " 'as': 6,\n",
              " 'asked': 235,\n",
              " 'assault': 229,\n",
              " 'associated': 117,\n",
              " 'asylum': 449,\n",
              " 'at': 44,\n",
              " 'automatically': 344,\n",
              " 'banton': 281,\n",
              " 'barbaric': 333,\n",
              " 'be': 24,\n",
              " 'been': 62,\n",
              " 'before': 371,\n",
              " 'began': 415,\n",
              " 'behaviour': 418,\n",
              " 'belief': 101,\n",
              " 'beliefs': 79,\n",
              " 'between': 467,\n",
              " 'black': 211,\n",
              " 'both': 66,\n",
              " 'bought': 431,\n",
              " 'britain': 410,\n",
              " \"britain'\": 243,\n",
              " 'british': 67,\n",
              " 'broader': 262,\n",
              " 'brown': 92,\n",
              " 'but': 59,\n",
              " 'by': 37,\n",
              " 'can': 50,\n",
              " 'cannibalism': 334,\n",
              " 'capitalism': 86,\n",
              " 'capitalist': 125,\n",
              " 'capitalists': 375,\n",
              " 'carmichael': 163,\n",
              " 'carried': 144,\n",
              " 'cases': 259,\n",
              " 'castles': 384,\n",
              " 'categorisation': 311,\n",
              " 'categorises': 453,\n",
              " 'causing': 383,\n",
              " 'century': 77,\n",
              " 'certain': 91,\n",
              " 'changed': 361,\n",
              " 'changing': 269,\n",
              " 'characteristics': 175,\n",
              " 'cited': 99,\n",
              " 'civilisation': 326,\n",
              " 'clamp': 447,\n",
              " 'closely': 358,\n",
              " 'colonialisation': 190,\n",
              " 'colonialism': 80,\n",
              " 'colonies': 367,\n",
              " 'colonised': 177,\n",
              " 'coloniser': 323,\n",
              " 'commonwealth': 425,\n",
              " 'communication': 225,\n",
              " 'concentrate': 303,\n",
              " 'concentrated': 222,\n",
              " 'concept': 98,\n",
              " 'conclusion': 452,\n",
              " 'connection': 414,\n",
              " 'conservative': 406,\n",
              " 'consider': 309,\n",
              " 'considerations': 294,\n",
              " 'constantly': 268,\n",
              " 'construct': 332,\n",
              " 'constructed': 83,\n",
              " 'constructing': 396,\n",
              " 'construction': 180,\n",
              " 'contemporary': 56,\n",
              " 'continuation': 108,\n",
              " 'continue': 186,\n",
              " 'continued': 153,\n",
              " 'continues': 96,\n",
              " 'contributed': 252,\n",
              " 'control': 166,\n",
              " 'controlled': 432,\n",
              " 'could': 159,\n",
              " 'countries': 173,\n",
              " 'country': 134,\n",
              " 'cover': 250,\n",
              " 'creating': 398,\n",
              " 'crime': 212,\n",
              " 'culture': 57,\n",
              " 'current': 204,\n",
              " 'danger': 445,\n",
              " 'debates': 408,\n",
              " 'decisions': 293,\n",
              " 'define': 264,\n",
              " 'defined': 94,\n",
              " 'defining': 343,\n",
              " 'definition': 360,\n",
              " 'degradation': 335,\n",
              " 'despite': 420,\n",
              " 'determines': 379,\n",
              " 'different': 318,\n",
              " 'disagreed': 147,\n",
              " 'discourse': 356,\n",
              " 'distaste': 451,\n",
              " 'distinguished': 274,\n",
              " 'do': 436,\n",
              " 'doing': 327,\n",
              " 'down': 448,\n",
              " 'due': 354,\n",
              " 'during': 188,\n",
              " 'easily': 376,\n",
              " 'economic': 193,\n",
              " 'economy': 58,\n",
              " 'education': 220,\n",
              " 'embedded': 465,\n",
              " 'emergence': 372,\n",
              " 'emphasis': 417,\n",
              " 'emphasises': 404,\n",
              " 'emphasising': 444,\n",
              " 'employed': 403,\n",
              " 'employment': 221,\n",
              " 'enriched': 240,\n",
              " 'ensure': 201,\n",
              " 'ensured': 126,\n",
              " 'ensures': 461,\n",
              " 'ensuring': 205,\n",
              " 'entered': 435,\n",
              " 'entering': 132,\n",
              " 'entry': 214,\n",
              " 'essay': 148,\n",
              " 'established': 366,\n",
              " 'et': 140,\n",
              " 'ethnic': 41,\n",
              " 'europeans': 171,\n",
              " 'example': 185,\n",
              " 'exclude': 456,\n",
              " 'excluded': 105,\n",
              " 'exist': 143,\n",
              " 'existed': 178,\n",
              " 'existence': 253,\n",
              " 'expanded': 289,\n",
              " 'explanation': 156,\n",
              " 'exploit': 377,\n",
              " 'exploited': 365,\n",
              " 'exploits': 460,\n",
              " 'explore': 248,\n",
              " 'exploring': 261,\n",
              " 'face': 218,\n",
              " 'fact': 421,\n",
              " 'factors': 363,\n",
              " 'features': 160,\n",
              " 'fenton': 81,\n",
              " 'finally': 464,\n",
              " 'first': 308,\n",
              " 'firstly': 458,\n",
              " 'focused': 174,\n",
              " 'following': 437,\n",
              " 'for': 48,\n",
              " 'from': 40,\n",
              " 'giving': 434,\n",
              " 'government': 216,\n",
              " 'group': 165,\n",
              " \"group'\": 298,\n",
              " 'groups': 288,\n",
              " 'had': 194,\n",
              " 'half': 245,\n",
              " 'hall': 157,\n",
              " 'hamilton': 164,\n",
              " 'hard': 263,\n",
              " 'has': 27,\n",
              " 'have': 22,\n",
              " 'helped': 331,\n",
              " 'hierarchy': 341,\n",
              " 'housing': 137,\n",
              " 'how': 247,\n",
              " 'however': 51,\n",
              " 'humankind': 316,\n",
              " 'i': 35,\n",
              " 'idea': 20,\n",
              " 'ideas': 14,\n",
              " 'ideology': 61,\n",
              " 'ignores': 402,\n",
              " 'images': 184,\n",
              " 'imbedded': 196,\n",
              " 'immigrants': 21,\n",
              " 'immigration': 409,\n",
              " 'impact': 364,\n",
              " 'impacted': 183,\n",
              " 'imperialism': 322,\n",
              " 'important': 284,\n",
              " 'in': 4,\n",
              " 'including': 136,\n",
              " 'individual': 257,\n",
              " 'inequalities': 219,\n",
              " 'inferior': 31,\n",
              " 'integral': 155,\n",
              " 'internalised': 255,\n",
              " 'into': 55,\n",
              " 'introduced': 427,\n",
              " 'is': 10,\n",
              " 'islam': 346,\n",
              " 'it': 15,\n",
              " 'job': 223,\n",
              " 'jobs': 127,\n",
              " 'just': 162,\n",
              " 'justification': 314,\n",
              " 'justify': 320,\n",
              " 'kosack': 385,\n",
              " 'labour': 123,\n",
              " \"labour'\": 200,\n",
              " 'large': 313,\n",
              " 'leant': 348,\n",
              " 'lecture': 393,\n",
              " 'left': 169,\n",
              " 'legacy': 110,\n",
              " 'legislation': 430,\n",
              " 'less': 462,\n",
              " 'life': 242,\n",
              " 'likely': 227,\n",
              " 'linked': 120,\n",
              " 'links': 195,\n",
              " 'literature': 328,\n",
              " 'longer': 182,\n",
              " 'look': 149,\n",
              " 'looking': 256,\n",
              " 'made': 176,\n",
              " 'maintain': 353,\n",
              " 'maintaining': 297,\n",
              " 'make': 466,\n",
              " 'manufacture': 224,\n",
              " 'many': 54,\n",
              " 'margaret': 441,\n",
              " 'market': 71,\n",
              " 'meant': 254,\n",
              " 'menial': 198,\n",
              " 'miles': 28,\n",
              " 'minorities': 42,\n",
              " 'most': 226,\n",
              " 'much': 422,\n",
              " 'nationalism': 119,\n",
              " 'nearly': 244,\n",
              " 'needed': 206,\n",
              " 'nineteenth': 100,\n",
              " 'no': 181,\n",
              " 'non': 68,\n",
              " 'not': 47,\n",
              " 'notes': 394,\n",
              " 'now': 161,\n",
              " 'number': 131,\n",
              " 'of': 3,\n",
              " 'often': 359,\n",
              " 'on': 23,\n",
              " 'only': 121,\n",
              " 'openly': 407,\n",
              " 'or': 146,\n",
              " 'order': 352,\n",
              " 'other': 112,\n",
              " 'others': 279,\n",
              " 'our': 53,\n",
              " 'out': 73,\n",
              " 'over': 65,\n",
              " 'overall': 191,\n",
              " 'p255': 246,\n",
              " 'p49': 283,\n",
              " 'p51': 300,\n",
              " 'p64': 272,\n",
              " 'part': 76,\n",
              " 'particular': 277,\n",
              " 'parties': 129,\n",
              " 'people': 36,\n",
              " 'period': 189,\n",
              " 'periods': 315,\n",
              " 'persisted': 438,\n",
              " 'persists': 75,\n",
              " 'phenomenon': 267,\n",
              " 'physical': 278,\n",
              " 'picked': 337,\n",
              " 'place': 307,\n",
              " 'placed': 179,\n",
              " 'played': 312,\n",
              " 'policies': 63,\n",
              " 'political': 89,\n",
              " 'politics': 95,\n",
              " 'popular': 355,\n",
              " 'pose': 446,\n",
              " 'posing': 412,\n",
              " 'power': 368,\n",
              " 'practice': 104,\n",
              " 'predication': 292,\n",
              " 'prevalent': 107,\n",
              " 'problem': 69,\n",
              " 'problems': 128,\n",
              " 'process': 286,\n",
              " 'processes': 468,\n",
              " 'procter': 392,\n",
              " 'product': 273,\n",
              " 'production': 388,\n",
              " 'prostitution': 419,\n",
              " 'provide': 391,\n",
              " 'purpose': 295,\n",
              " 'put': 124,\n",
              " 'quality': 241,\n",
              " 'race': 78,\n",
              " 'races': 60,\n",
              " 'racial': 64,\n",
              " 'racialism': 370,\n",
              " 'racialist': 340,\n",
              " 'racially': 339,\n",
              " 'racism': 8,\n",
              " 'racist': 33,\n",
              " 'rather': 260,\n",
              " 'realise': 285,\n",
              " 'reason': 362,\n",
              " 'reasons': 457,\n",
              " 'recent': 230,\n",
              " 'recreated': 400,\n",
              " 'redefining': 270,\n",
              " 'reinforced': 29,\n",
              " 'rejected': 280,\n",
              " 'representatives': 325,\n",
              " 'requires': 386,\n",
              " 'reserve': 397,\n",
              " 'restricted': 411,\n",
              " 'restrictions': 428,\n",
              " 'sample': 145,\n",
              " 'scientific': 158,\n",
              " 'second': 207,\n",
              " 'secondly': 459,\n",
              " 'section': 249,\n",
              " 'see': 416,\n",
              " 'seek': 455,\n",
              " 'seekers': 450,\n",
              " 'seen': 72,\n",
              " 'sense': 399,\n",
              " 'shortages': 413,\n",
              " 'showing': 369,\n",
              " 'shown': 232,\n",
              " 'since': 85,\n",
              " 'skilled': 463,\n",
              " 'skills': 381,\n",
              " 'slave': 310,\n",
              " 'slavery': 321,\n",
              " 'so': 172,\n",
              " 'social': 130,\n",
              " 'societies': 170,\n",
              " 'society': 11,\n",
              " 'solomos': 133,\n",
              " 'some': 401,\n",
              " 'specific': 258,\n",
              " 'split': 317,\n",
              " 'statement': 238,\n",
              " 'states': 338,\n",
              " 'static': 266,\n",
              " 'still': 17,\n",
              " 'strong': 168,\n",
              " 'subordinated': 287,\n",
              " 'subordinating': 296,\n",
              " 'successful': 387,\n",
              " 'such': 138,\n",
              " 'suitable': 197,\n",
              " 'superior': 102,\n",
              " 'superiority': 350,\n",
              " 'support': 374,\n",
              " 'survey': 233,\n",
              " 'surveys': 231,\n",
              " 'sustained': 351,\n",
              " 'system': 215,\n",
              " 'take': 306,\n",
              " 'term': 275,\n",
              " 'that': 5,\n",
              " 'thatcher': 442,\n",
              " 'the': 1,\n",
              " 'their': 84,\n",
              " 'them': 378,\n",
              " 'themselves': 324,\n",
              " 'then': 151,\n",
              " 'there': 118,\n",
              " 'therefore': 114,\n",
              " 'these': 39,\n",
              " 'they': 25,\n",
              " 'think': 251,\n",
              " 'this': 13,\n",
              " 'those': 52,\n",
              " 'threat': 202,\n",
              " 'three': 152,\n",
              " 'through': 32,\n",
              " 'throughout': 103,\n",
              " 'time': 111,\n",
              " 'to': 9,\n",
              " 'today': 49,\n",
              " \"today's\": 192,\n",
              " 'together': 469,\n",
              " 'top': 342,\n",
              " 'trade': 167,\n",
              " 'travellers': 329,\n",
              " 'twentieth': 405,\n",
              " 'two': 357,\n",
              " 'uncivilised': 113,\n",
              " 'undesirable': 213,\n",
              " 'used': 373,\n",
              " 'using': 276,\n",
              " 'usually': 319,\n",
              " 'values': 390,\n",
              " 'veil': 345,\n",
              " 'very': 97,\n",
              " 'victims': 228,\n",
              " 'viewed': 87,\n",
              " 'voucher': 433,\n",
              " 'war': 209,\n",
              " 'was': 26,\n",
              " 'were': 16,\n",
              " 'west': 115,\n",
              " 'what': 150,\n",
              " 'whether': 236,\n",
              " 'which': 45,\n",
              " 'white': 34,\n",
              " 'whites': 135,\n",
              " 'who': 106,\n",
              " 'why': 74,\n",
              " 'will': 43,\n",
              " 'wished': 349,\n",
              " 'with': 18,\n",
              " 'within': 90,\n",
              " 'without': 304,\n",
              " 'women': 336,\n",
              " 'work': 217,\n",
              " 'workers': 203,\n",
              " 'world': 208,\n",
              " 'would': 305,\n",
              " 'your': 380}"
            ]
          },
          "metadata": {},
          "execution_count": 41
        }
      ],
      "source": [
        "vocab_dict"
      ]
    },
    {
      "cell_type": "code",
      "execution_count": null,
      "metadata": {
        "id": "y6rvcZQ3uU3Y"
      },
      "outputs": [],
      "source": [
        "vals=list(vocab_dict.values())\n",
        "keys=list(vocab_dict.keys())\n",
        "#keys[vals.index(1)]"
      ]
    },
    {
      "cell_type": "code",
      "execution_count": null,
      "metadata": {
        "id": "rDNcHMcfNzQ4"
      },
      "outputs": [],
      "source": [
        "vocab_size=len(keys)"
      ]
    },
    {
      "cell_type": "code",
      "execution_count": null,
      "metadata": {
        "colab": {
          "base_uri": "https://localhost:8080/"
        },
        "id": "8IQlLxHeRgBz",
        "outputId": "5a8c20d3-1b96-4ab8-b5b7-dbaf10b1f302"
      },
      "outputs": [
        {
          "output_type": "execute_result",
          "data": {
            "text/plain": [
              "469"
            ]
          },
          "metadata": {},
          "execution_count": 44
        }
      ],
      "source": [
        "vocab_size"
      ]
    },
    {
      "cell_type": "code",
      "execution_count": null,
      "metadata": {
        "colab": {
          "base_uri": "https://localhost:8080/"
        },
        "id": "vif75frJaldU",
        "outputId": "08e1007b-9fc8-4712-ca9f-5b7fa66daf0a"
      },
      "outputs": [
        {
          "output_type": "execute_result",
          "data": {
            "text/plain": [
              "(470, 300)"
            ]
          },
          "metadata": {},
          "execution_count": 45
        }
      ],
      "source": [
        "embedding_array=np.zeros((vocab_size+1,300))\n",
        "embedding_array.shape"
      ]
    },
    {
      "cell_type": "code",
      "execution_count": null,
      "metadata": {
        "colab": {
          "base_uri": "https://localhost:8080/",
          "height": 55
        },
        "id": "BeSS4bYAZQW8",
        "outputId": "4318fc44-ec81-4180-b06c-a4ccd84f15b3"
      },
      "outputs": [
        {
          "data": {
            "application/vnd.google.colaboratory.intrinsic+json": {
              "type": "string"
            },
            "text/plain": [
              "'for word,i in tokenizer.word_index.items():\\n  if word in embeddings_dict:\\n    embedding_vector=embeddings_dict[word]\\n  #if embedding_vector is not None:\\n    embedding_array[i]=embedding_vector'"
            ]
          },
          "execution_count": 75,
          "metadata": {
            "tags": []
          },
          "output_type": "execute_result"
        }
      ],
      "source": [
        "\"\"\"for word,i in tokenizer.word_index.items():\n",
        "  if word in embeddings_dict:\n",
        "    embedding_vector=embeddings_dict[word]\n",
        "  #if embedding_vector is not None:\n",
        "    embedding_array[i]=embedding_vector\"\"\""
      ]
    },
    {
      "cell_type": "code",
      "execution_count": null,
      "metadata": {
        "id": "I8xo3tjZfCUT",
        "colab": {
          "base_uri": "https://localhost:8080/",
          "height": 227
        },
        "outputId": "96f5f597-6df0-4203-9898-6097781853f5"
      },
      "outputs": [
        {
          "output_type": "error",
          "ename": "NameError",
          "evalue": "ignored",
          "traceback": [
            "\u001b[0;31m---------------------------------------------------------------------------\u001b[0m",
            "\u001b[0;31mNameError\u001b[0m                                 Traceback (most recent call last)",
            "\u001b[0;32m<ipython-input-46-10269ee2b941>\u001b[0m in \u001b[0;36m<module>\u001b[0;34m()\u001b[0m\n\u001b[1;32m      1\u001b[0m \u001b[0;32mfor\u001b[0m \u001b[0mword\u001b[0m\u001b[0;34m,\u001b[0m\u001b[0mi\u001b[0m \u001b[0;32min\u001b[0m \u001b[0mtokenizer\u001b[0m\u001b[0;34m.\u001b[0m\u001b[0mword_index\u001b[0m\u001b[0;34m.\u001b[0m\u001b[0mitems\u001b[0m\u001b[0;34m(\u001b[0m\u001b[0;34m)\u001b[0m\u001b[0;34m:\u001b[0m\u001b[0;34m\u001b[0m\u001b[0;34m\u001b[0m\u001b[0m\n\u001b[0;32m----> 2\u001b[0;31m   \u001b[0membedding_vector\u001b[0m\u001b[0;34m=\u001b[0m\u001b[0membedding_file\u001b[0m\u001b[0;34m(\u001b[0m\u001b[0mword\u001b[0m\u001b[0;34m)\u001b[0m\u001b[0;34m.\u001b[0m\u001b[0mvector\u001b[0m\u001b[0;34m\u001b[0m\u001b[0;34m\u001b[0m\u001b[0m\n\u001b[0m\u001b[1;32m      3\u001b[0m   \u001b[0;32mif\u001b[0m \u001b[0membedding_vector\u001b[0m \u001b[0;32mis\u001b[0m \u001b[0;32mnot\u001b[0m \u001b[0;32mNone\u001b[0m\u001b[0;34m:\u001b[0m\u001b[0;34m\u001b[0m\u001b[0;34m\u001b[0m\u001b[0m\n\u001b[1;32m      4\u001b[0m     \u001b[0membedding_array\u001b[0m\u001b[0;34m[\u001b[0m\u001b[0mi\u001b[0m\u001b[0;34m]\u001b[0m\u001b[0;34m=\u001b[0m\u001b[0membedding_vector\u001b[0m\u001b[0;34m\u001b[0m\u001b[0;34m\u001b[0m\u001b[0m\n",
            "\u001b[0;31mNameError\u001b[0m: name 'embedding_file' is not defined"
          ]
        }
      ],
      "source": [
        "for word,i in tokenizer.word_index.items():\n",
        "  embedding_vector=embedding_file(word).vector\n",
        "  if embedding_vector is not None:\n",
        "    embedding_array[i]=embedding_vector"
      ]
    },
    {
      "cell_type": "code",
      "execution_count": null,
      "metadata": {
        "id": "bIj5PtCIZyt2"
      },
      "outputs": [],
      "source": [
        "#embedding_array[7306]"
      ]
    },
    {
      "cell_type": "code",
      "execution_count": null,
      "metadata": {
        "colab": {
          "base_uri": "https://localhost:8080/"
        },
        "id": "i6-XEAC_Vu_Y",
        "outputId": "a43e5634-cb09-4fe8-d18e-770babcb5621"
      },
      "outputs": [
        {
          "data": {
            "text/plain": [
              "161101"
            ]
          },
          "execution_count": 78,
          "metadata": {
            "tags": []
          },
          "output_type": "execute_result"
        }
      ],
      "source": [
        "len(x[0])"
      ]
    },
    {
      "cell_type": "code",
      "execution_count": null,
      "metadata": {
        "colab": {
          "base_uri": "https://localhost:8080/"
        },
        "id": "1tVjyvXhTNJR",
        "outputId": "27380623-b486-4764-e204-29bf82a29b2d"
      },
      "outputs": [
        {
          "data": {
            "text/plain": [
              "[32, 45, 92, 4410, 4411, 2794, 5, 346, 5, 32, 96, 493, 633, 3, 1024]"
            ]
          },
          "execution_count": 79,
          "metadata": {
            "tags": []
          },
          "output_type": "execute_result"
        }
      ],
      "source": [
        "x[0][0:15]"
      ]
    },
    {
      "cell_type": "code",
      "execution_count": null,
      "metadata": {
        "id": "rzuDqCqaSTE0"
      },
      "outputs": [],
      "source": [
        "inner_list=[]\n",
        "X={}\n",
        "corpus_length=len(x[0])-seq_len\n",
        "k=0\n",
        "\n",
        "for i in range(0,corpus_length,seq_len):\n",
        "  inner_list.clear()\n",
        "  for j in range(i,i+seq_len):\n",
        "    inner_list.append(x[0][j])\n",
        "  X[k]=inner_list[:]\n",
        "  k=k+1"
      ]
    },
    {
      "cell_type": "code",
      "execution_count": null,
      "metadata": {
        "id": "V2gTJPZikPnq"
      },
      "outputs": [],
      "source": [
        "#list(X.values())\n",
        "x_train=[]\n",
        "y_train=[]\n",
        "for it in list(X.values()):\n",
        "  x_train.append(it[0:-1])\n",
        "  y_train.append(it[-1])"
      ]
    },
    {
      "cell_type": "code",
      "execution_count": null,
      "metadata": {
        "colab": {
          "base_uri": "https://localhost:8080/"
        },
        "id": "_mNwoEZem2fX",
        "outputId": "83e9ad0f-c24c-4e3e-c00d-be6095910fd2"
      },
      "outputs": [
        {
          "data": {
            "text/plain": [
              "[4, 1551, 3, 17, 675, 1025, 588, 61, 364]"
            ]
          },
          "execution_count": 82,
          "metadata": {
            "tags": []
          },
          "output_type": "execute_result"
        }
      ],
      "source": [
        "x_train[3]"
      ]
    },
    {
      "cell_type": "code",
      "execution_count": null,
      "metadata": {
        "colab": {
          "base_uri": "https://localhost:8080/"
        },
        "id": "O0ACQB-eWHWV",
        "outputId": "000840cc-a1df-408a-e963-ae8683e4c770"
      },
      "outputs": [
        {
          "data": {
            "text/plain": [
              "16110"
            ]
          },
          "execution_count": 83,
          "metadata": {
            "tags": []
          },
          "output_type": "execute_result"
        }
      ],
      "source": [
        "len(x_train)"
      ]
    },
    {
      "cell_type": "code",
      "execution_count": null,
      "metadata": {
        "id": "n3pVZIEFTJWL"
      },
      "outputs": [],
      "source": [
        "X=np.array(x_train)\n",
        "#input_seq.shape\n",
        "y=np.array(y_train).reshape(len(y_train),1)\n",
        "#target=tf.reshape(tf.constant(y_train),[len(y_train),1])"
      ]
    },
    {
      "cell_type": "code",
      "execution_count": null,
      "metadata": {
        "colab": {
          "base_uri": "https://localhost:8080/"
        },
        "id": "-LgTXADBLWod",
        "outputId": "adf71771-76bf-4574-d7d5-5348d4cd3555"
      },
      "outputs": [
        {
          "data": {
            "text/plain": [
              "(16110, 1)"
            ]
          },
          "execution_count": 85,
          "metadata": {
            "tags": []
          },
          "output_type": "execute_result"
        }
      ],
      "source": [
        "y.shape"
      ]
    },
    {
      "cell_type": "code",
      "execution_count": null,
      "metadata": {
        "id": "K963m-_GKRoK"
      },
      "outputs": [],
      "source": [
        "X_train,X_test,y_train,y_test=train_test_split(X,y,test_size=0.3)"
      ]
    },
    {
      "cell_type": "code",
      "execution_count": null,
      "metadata": {
        "colab": {
          "base_uri": "https://localhost:8080/"
        },
        "id": "SAvkBoN6Ls5L",
        "outputId": "3eb71a03-325c-43fe-b2cd-928d48f78db2"
      },
      "outputs": [
        {
          "data": {
            "text/plain": [
              "(11277, 9)"
            ]
          },
          "execution_count": 87,
          "metadata": {
            "tags": []
          },
          "output_type": "execute_result"
        }
      ],
      "source": [
        "X_train.shape"
      ]
    },
    {
      "cell_type": "code",
      "execution_count": null,
      "metadata": {
        "colab": {
          "base_uri": "https://localhost:8080/"
        },
        "id": "DNlVNBx1LwLB",
        "outputId": "2ea67b8b-4758-4006-addc-34d094a3010b"
      },
      "outputs": [
        {
          "data": {
            "text/plain": [
              "array([[  25],\n",
              "       [  12],\n",
              "       [4296],\n",
              "       ...,\n",
              "       [  15],\n",
              "       [1345],\n",
              "       [  60]])"
            ]
          },
          "execution_count": 88,
          "metadata": {
            "tags": []
          },
          "output_type": "execute_result"
        }
      ],
      "source": [
        "y_train"
      ]
    },
    {
      "cell_type": "code",
      "execution_count": null,
      "metadata": {
        "id": "87Uy9xVrKJ36"
      },
      "outputs": [],
      "source": [
        "input_seq,test_seq,y_true,y_hat=tf.constant(X_train),tf.constant(X_test),tf.constant(y_train),tf.constant(y_test)"
      ]
    },
    {
      "cell_type": "code",
      "execution_count": null,
      "metadata": {
        "colab": {
          "base_uri": "https://localhost:8080/"
        },
        "id": "27aW3YsEMtgx",
        "outputId": "a8823f9e-d864-4a22-9fe8-d96b4889587e"
      },
      "outputs": [
        {
          "data": {
            "text/plain": [
              "<tf.Tensor: shape=(11277, 9), dtype=int64, numpy=\n",
              "array([[  15,   84,   12, ...,   25,   96,   53],\n",
              "       [ 206,    1,   36, ..., 2535,    5,   30],\n",
              "       [  10, 4295,    2, ...,  647,    4,    2],\n",
              "       ...,\n",
              "       [  22,  839,   50, ...,  100,    5,  153],\n",
              "       [  14, 1113,   45, ...,   22,   28,   24],\n",
              "       [  13,   60,   12, ...,  528,  630,   13]])>"
            ]
          },
          "execution_count": 90,
          "metadata": {
            "tags": []
          },
          "output_type": "execute_result"
        }
      ],
      "source": [
        "input_seq"
      ]
    },
    {
      "cell_type": "code",
      "execution_count": null,
      "metadata": {
        "colab": {
          "base_uri": "https://localhost:8080/"
        },
        "id": "FQ1eLak8DDoe",
        "outputId": "55e111b6-dcf4-46fb-8117-124ecb0421b2"
      },
      "outputs": [
        {
          "data": {
            "text/plain": [
              "<tf.Tensor: shape=(11277, 1), dtype=int64, numpy=\n",
              "array([[  25],\n",
              "       [  12],\n",
              "       [4296],\n",
              "       ...,\n",
              "       [  15],\n",
              "       [1345],\n",
              "       [  60]])>"
            ]
          },
          "execution_count": 91,
          "metadata": {
            "tags": []
          },
          "output_type": "execute_result"
        }
      ],
      "source": [
        "y_true"
      ]
    },
    {
      "cell_type": "code",
      "execution_count": null,
      "metadata": {
        "colab": {
          "base_uri": "https://localhost:8080/"
        },
        "id": "pdqPr0qBOZ_j",
        "outputId": "f2c743e8-defe-4070-a1ad-b7e4c46a48de"
      },
      "outputs": [
        {
          "data": {
            "text/plain": [
              "<tf.Tensor: shape=(), dtype=int64, numpy=7232>"
            ]
          },
          "execution_count": 92,
          "metadata": {
            "tags": []
          },
          "output_type": "execute_result"
        }
      ],
      "source": [
        "tf.reduce_max(input_seq)+1"
      ]
    },
    {
      "cell_type": "code",
      "execution_count": null,
      "metadata": {
        "id": "3NIzBxrMkJO-"
      },
      "outputs": [],
      "source": [
        "input=Input(shape=(seq_len-1,))\n",
        "x=Embedding(input_dim=vocab_size+1,input_length=seq_len-1,output_dim=20,trainable=True)(input)\n",
        "x=LSTM(256,return_sequences=True)(x)\n",
        "x=LSTM(128,return_sequences=True)(x)\n",
        "x=LSTM(64)(x)\n",
        "x=Dense(32)(x)\n",
        "output=Dense(vocab_size,activation=\"softmax\")(x)\n",
        "model=Model(input,output)"
      ]
    },
    {
      "cell_type": "code",
      "execution_count": null,
      "metadata": {
        "id": "MbsSkoNZQ9dC"
      },
      "outputs": [],
      "source": [
        "model.summary()"
      ]
    },
    {
      "cell_type": "code",
      "execution_count": null,
      "metadata": {
        "id": "Nmoai3BQocfR"
      },
      "outputs": [],
      "source": [
        "model.compile(optimizer=Adam(0.01),loss=tf.keras.losses.sparse_categorical_crossentropy,metrics=['accuracy'])"
      ]
    },
    {
      "cell_type": "code",
      "execution_count": null,
      "metadata": {
        "colab": {
          "background_save": true,
          "base_uri": "https://localhost:8080/"
        },
        "id": "MzNXbH2joqD0",
        "outputId": "b4586e32-4701-40bb-8ea5-7f043cdafa42"
      },
      "outputs": [
        {
          "name": "stdout",
          "output_type": "stream",
          "text": [
            "Epoch 1/10\n",
            "353/353 [==============================] - 13s 23ms/step - loss: 6.7295 - accuracy: 0.0304\n",
            "Epoch 2/10\n",
            "353/353 [==============================] - 8s 23ms/step - loss: 6.2491 - accuracy: 0.0308\n",
            "Epoch 3/10\n",
            "353/353 [==============================] - 8s 23ms/step - loss: 6.2468 - accuracy: 0.0321\n",
            "Epoch 4/10\n",
            "353/353 [==============================] - 8s 23ms/step - loss: 6.2324 - accuracy: 0.0300\n",
            "Epoch 5/10\n",
            "353/353 [==============================] - 8s 23ms/step - loss: 6.2279 - accuracy: 0.0269\n",
            "Epoch 6/10\n",
            "353/353 [==============================] - 8s 23ms/step - loss: 6.2175 - accuracy: 0.0300\n",
            "Epoch 7/10\n",
            "353/353 [==============================] - 8s 23ms/step - loss: 6.2124 - accuracy: 0.0281\n",
            "Epoch 8/10\n",
            "353/353 [==============================] - 8s 23ms/step - loss: 6.2273 - accuracy: 0.0278\n",
            "Epoch 9/10\n",
            "353/353 [==============================] - 8s 23ms/step - loss: 6.2189 - accuracy: 0.0336\n",
            "Epoch 10/10\n",
            "353/353 [==============================] - 8s 23ms/step - loss: 6.2240 - accuracy: 0.0299\n"
          ]
        },
        {
          "data": {
            "text/plain": [
              "<tensorflow.python.keras.callbacks.History at 0x7fc28fde6d10>"
            ]
          },
          "execution_count": null,
          "metadata": {},
          "output_type": "execute_result"
        }
      ],
      "source": [
        "model.fit(input_seq,y_true,epochs=10)"
      ]
    },
    {
      "cell_type": "code",
      "execution_count": null,
      "metadata": {
        "colab": {
          "base_uri": "https://localhost:8080/"
        },
        "id": "iLpi5L4SJSpX",
        "outputId": "347a8501-e29e-4287-b183-b8109280b2e3"
      },
      "outputs": [
        {
          "name": "stdout",
          "output_type": "stream",
          "text": [
            "152/152 [==============================] - 3s 10ms/step - loss: 6.9668 - accuracy: 0.0300\n"
          ]
        },
        {
          "data": {
            "text/plain": [
              "[6.966794013977051, 0.030002068728208542]"
            ]
          },
          "execution_count": 100,
          "metadata": {
            "tags": []
          },
          "output_type": "execute_result"
        }
      ],
      "source": [
        "model.evaluate(test_seq,y_hat)"
      ]
    },
    {
      "cell_type": "code",
      "execution_count": null,
      "metadata": {
        "id": "5JiLY6K5qQQN"
      },
      "outputs": [],
      "source": [
        "input_text=[\"she was such a good person\"]\n",
        "#input_text=[\"he was such a good person and honestly speaking he did make good use of his\"]\n",
        "#input_text=[\"can you please\"]\n",
        "#input_text=[\"marriage is such a beautiful\"]\n",
        "toks=tokenizer.texts_to_sequences(input_text)\n",
        "ins=pad_sequences(toks,maxlen=seq_len-1)\n",
        "input_tensor=tf.constant(ins)\n",
        "input_tensor"
      ]
    },
    {
      "cell_type": "code",
      "execution_count": null,
      "metadata": {
        "id": "J7hHHunLrnRx"
      },
      "outputs": [],
      "source": [
        "pred=model.predict(input_tensor)\n",
        "keys[vals.index(np.argmax(pred))]"
      ]
    },
    {
      "cell_type": "code",
      "execution_count": null,
      "metadata": {
        "id": "ABZ66jz4dtDd"
      },
      "outputs": [],
      "source": [
        "input_text[0]=input_text[0]+' '+keys[vals.index(np.argmax(pred))]\n",
        "input_text[0]"
      ]
    },
    {
      "cell_type": "code",
      "execution_count": null,
      "metadata": {
        "id": "0AjbtM33ekzG"
      },
      "outputs": [],
      "source": [
        "for i in range(10):\n",
        "  toks=tokenizer.texts_to_sequences(input_text)\n",
        "  ins=pad_sequences(toks,maxlen=seq_len-1)\n",
        "  input_tensor=tf.constant(ins)\n",
        "  pred=model.predict(input_tensor)\n",
        "  input_text[0]=input_text[0]+' '+keys[vals.index(np.argmax(pred))]\n",
        "\n",
        "print(input_text)"
      ]
    },
    {
      "cell_type": "code",
      "execution_count": null,
      "metadata": {
        "id": "KaBm737y7CD9"
      },
      "outputs": [],
      "source": [
        "sort_pred=np.argsort(pred[0])\n",
        "pred_words=np.flip(sort_pred[-20:])\n",
        "for index in pred_words:\n",
        "  print(keys[vals.index(index)])"
      ]
    }
  ],
  "metadata": {
    "accelerator": "GPU",
    "colab": {
      "collapsed_sections": [],
      "name": "Next_Word_Prediction.ipynb",
      "provenance": []
    },
    "kernelspec": {
      "display_name": "Python 3",
      "name": "python3"
    },
    "language_info": {
      "name": "python"
    }
  },
  "nbformat": 4,
  "nbformat_minor": 0
}